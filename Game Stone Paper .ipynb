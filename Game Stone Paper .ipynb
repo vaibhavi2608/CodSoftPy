{
 "cells": [
  {
   "cell_type": "code",
   "execution_count": null,
   "id": "b4256381",
   "metadata": {},
   "outputs": [
    {
     "name": "stdout",
     "output_type": "stream",
     "text": [
      "Welcome to Rock-Paper-Scissors Game!\n",
      "Choose rock, paper, or scissors: rock\n",
      "Your choice: rock\n",
      "Computer's choice: rock\n",
      "It's a tie!\n",
      "Your score: 0 | Computer's score: 0\n",
      "Do you want to play again? (yes/no): yes\n",
      "Choose rock, paper, or scissors: paper\n",
      "Your choice: paper\n",
      "Computer's choice: scissors\n",
      "Computer wins!\n",
      "Your score: 1 | Computer's score: 0\n"
     ]
    }
   ],
   "source": [
    "import random\n",
    "\n",
    "def get_user_choice():\n",
    "    while True:\n",
    "        user_choice = input(\"Choose rock, paper, or scissors: \").lower()\n",
    "        if user_choice in ['rock', 'paper', 'scissors']:\n",
    "            return user_choice\n",
    "        else:\n",
    "            print(\"Invalid choice. Please choose rock, paper, or scissors.\")\n",
    "\n",
    "def get_computer_choice():\n",
    "    return random.choice(['rock', 'paper', 'scissors'])\n",
    "\n",
    "def determine_winner(user_choice, computer_choice):\n",
    "    if user_choice == computer_choice:\n",
    "        return \"It's a tie!\"\n",
    "    elif (\n",
    "        (user_choice == 'rock' and computer_choice == 'scissors') or\n",
    "        (user_choice == 'scissors' and computer_choice == 'paper') or\n",
    "        (user_choice == 'paper' and computer_choice == 'rock')\n",
    "    ):\n",
    "        return \"You win!\"\n",
    "    else:\n",
    "        return \"Computer wins!\"\n",
    "\n",
    "def display_result(user_choice, computer_choice, result):\n",
    "    print(f\"Your choice: {user_choice}\")\n",
    "    print(f\"Computer's choice: {computer_choice}\")\n",
    "    print(result)\n",
    "\n",
    "def play_game():\n",
    "    user_score = 0\n",
    "    computer_score = 0\n",
    "\n",
    "    while True:\n",
    "        user_choice = get_user_choice()\n",
    "        computer_choice = get_computer_choice()\n",
    "\n",
    "        result = determine_winner(user_choice, computer_choice)\n",
    "        display_result(user_choice, computer_choice, result)\n",
    "\n",
    "        if 'win' in result:\n",
    "            user_score += 1\n",
    "        elif 'lose' in result:\n",
    "            computer_score += 1\n",
    "\n",
    "        print(f\"Your score: {user_score} | Computer's score: {computer_score}\")\n",
    "\n",
    "        play_again = input(\"Do you want to play again? (yes/no): \").lower()\n",
    "        if play_again != 'yes':\n",
    "            print(\"Thanks for playing!\")\n",
    "            break\n",
    "if__name__ = \"__main__\"\n",
    "print(\"Welcome to Rock-Paper-Scissors Game!\")\n",
    "play_game()"
   ]
  }
 ],
 "metadata": {
  "kernelspec": {
   "display_name": "Python 3 (ipykernel)",
   "language": "python",
   "name": "python3"
  },
  "language_info": {
   "codemirror_mode": {
    "name": "ipython",
    "version": 3
   },
   "file_extension": ".py",
   "mimetype": "text/x-python",
   "name": "python",
   "nbconvert_exporter": "python",
   "pygments_lexer": "ipython3",
   "version": "3.11.5"
  }
 },
 "nbformat": 4,
 "nbformat_minor": 5
}
