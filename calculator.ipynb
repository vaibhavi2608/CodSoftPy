{
 "cells": [
  {
   "cell_type": "code",
   "execution_count": 1,
   "id": "97a42e02",
   "metadata": {},
   "outputs": [],
   "source": [
    "import math\n",
    "\n"
   ]
  },
  {
   "cell_type": "code",
   "execution_count": 2,
   "id": "b2dc8ce3",
   "metadata": {},
   "outputs": [],
   "source": [
    "def calculator():\n",
    "    print(\"Advanced Calculator\")\n",
    "    while True:\n",
    "        print(\"\\nChoose operation:\")\n",
    "        print(\"01. Add\")\n",
    "        print(\"02. Subtract\")\n",
    "        print(\"03. Multiply\")\n",
    "        print(\"04. Divide\")\n",
    "        print(\"05. Power\")\n",
    "        print(\"06. Square Root\")\n",
    "        print(\"07. Logarithm\")\n",
    "        print(\"08. Exit\")\n",
    "\n",
    "        choice = input(\"Enter choice (01-08): \")\n",
    "        \n",
    "        \n",
    "        \n",
    "        if choice in ('06', '07'):\n",
    "            num1 = float(input(\"Enter number: \"))\n",
    "\n",
    "        if choice == '08':\n",
    "            print(\"Exiting the calculator. Goodbye!\")\n",
    "            break\n",
    "            \n",
    "        else:\n",
    "            num1 = float(input(\"Enter first number: \"))\n",
    "            num2 = float(input(\"Enter second number: \"))\n",
    "\n",
    "       \n",
    "        \n",
    "\n",
    "        if choice == '01':\n",
    "            print(f\"{num1} + {num2} = {add(num1, num2)}\")\n",
    "        elif choice == '02':\n",
    "            print(f\"{num1} - {num2} = {subtract(num1, num2)}\")\n",
    "        elif choice == '03':\n",
    "            print(f\"{num1} * {num2} = {multiply(num1, num2)}\")\n",
    "        elif choice == '04':\n",
    "            result = divide(num1, num2)\n",
    "            print(f\"{num1} / {num2} = {result}\")\n",
    "        elif choice == '05':\n",
    "            print(f\"{num1} ^ {num2} = {power(num1, num2)}\")\n",
    "        elif choice == '06':\n",
    "            print(f\"Square root of {num1} = {square_root(num1)}\")\n",
    "        elif choice == '07':\n",
    "            base = float(input(\"Enter the base for logarithm: \"))\n",
    "            print(f\"Logarithm of {num1} to the base {base} = {logarithm(num1, base)}\")\n",
    "        else:\n",
    "            print(\"Invalid input. Please enter a number between 01 and 08.\")\n"
   ]
  },
  {
   "cell_type": "code",
   "execution_count": 3,
   "id": "aaf85c16",
   "metadata": {},
   "outputs": [],
   "source": [
    "def add(m, n):\n",
    "    return m + n"
   ]
  },
  {
   "cell_type": "code",
   "execution_count": 4,
   "id": "a9826704",
   "metadata": {},
   "outputs": [],
   "source": [
    "def subtract(m, n):\n",
    "    return m - n"
   ]
  },
  {
   "cell_type": "code",
   "execution_count": 5,
   "id": "31f95302",
   "metadata": {},
   "outputs": [],
   "source": [
    "def multiply(m, n):\n",
    "    return m * n\n"
   ]
  },
  {
   "cell_type": "code",
   "execution_count": 6,
   "id": "3c93b353",
   "metadata": {},
   "outputs": [],
   "source": [
    "def divide(m, n):\n",
    "    if y == 0:\n",
    "        return \"Cannot divide by zero\"\n",
    "    return m / n"
   ]
  },
  {
   "cell_type": "code",
   "execution_count": 7,
   "id": "843dfb80",
   "metadata": {},
   "outputs": [],
   "source": [
    "def power(m, n):\n",
    "    return m ** n\n"
   ]
  },
  {
   "cell_type": "code",
   "execution_count": 8,
   "id": "4bd051f1",
   "metadata": {},
   "outputs": [],
   "source": [
    "def square_root(m):\n",
    "    return math.sqrt(m)\n"
   ]
  },
  {
   "cell_type": "code",
   "execution_count": 9,
   "id": "63870b6a",
   "metadata": {},
   "outputs": [],
   "source": [
    "def logarithm(m, base):\n",
    "    return math.log(m, base)\n"
   ]
  },
  {
   "cell_type": "code",
   "execution_count": null,
   "id": "5f1c4cf8",
   "metadata": {},
   "outputs": [
    {
     "name": "stdout",
     "output_type": "stream",
     "text": [
      "Advanced Calculator\n",
      "\n",
      "Choose operation:\n",
      "01. Add\n",
      "02. Subtract\n",
      "03. Multiply\n",
      "04. Divide\n",
      "05. Power\n",
      "06. Square Root\n",
      "07. Logarithm\n",
      "08. Exit\n"
     ]
    }
   ],
   "source": [
    "if __name__ == \"__main__\":\n",
    "    calculator()\n"
   ]
  },
  {
   "cell_type": "code",
   "execution_count": null,
   "id": "72be8713",
   "metadata": {},
   "outputs": [],
   "source": []
  },
  {
   "cell_type": "code",
   "execution_count": null,
   "id": "7a30e5fc",
   "metadata": {},
   "outputs": [],
   "source": []
  },
  {
   "cell_type": "code",
   "execution_count": null,
   "id": "c7053101",
   "metadata": {},
   "outputs": [],
   "source": []
  },
  {
   "cell_type": "code",
   "execution_count": null,
   "id": "7cdc2eca",
   "metadata": {},
   "outputs": [],
   "source": []
  },
  {
   "cell_type": "code",
   "execution_count": null,
   "id": "3e0c7c61",
   "metadata": {},
   "outputs": [],
   "source": []
  },
  {
   "cell_type": "code",
   "execution_count": null,
   "id": "7f74a81f",
   "metadata": {},
   "outputs": [],
   "source": []
  },
  {
   "cell_type": "code",
   "execution_count": null,
   "id": "9212ab3e",
   "metadata": {},
   "outputs": [],
   "source": []
  },
  {
   "cell_type": "code",
   "execution_count": null,
   "id": "5e3279f5",
   "metadata": {},
   "outputs": [],
   "source": []
  },
  {
   "cell_type": "code",
   "execution_count": null,
   "id": "e1568c8e",
   "metadata": {},
   "outputs": [],
   "source": []
  },
  {
   "cell_type": "code",
   "execution_count": null,
   "id": "75e2f2d0",
   "metadata": {},
   "outputs": [],
   "source": []
  },
  {
   "cell_type": "code",
   "execution_count": null,
   "id": "d5b0a68d",
   "metadata": {},
   "outputs": [],
   "source": []
  },
  {
   "cell_type": "code",
   "execution_count": null,
   "id": "aa0a2e16",
   "metadata": {},
   "outputs": [],
   "source": []
  }
 ],
 "metadata": {
  "kernelspec": {
   "display_name": "Python 3 (ipykernel)",
   "language": "python",
   "name": "python3"
  },
  "language_info": {
   "codemirror_mode": {
    "name": "ipython",
    "version": 3
   },
   "file_extension": ".py",
   "mimetype": "text/x-python",
   "name": "python",
   "nbconvert_exporter": "python",
   "pygments_lexer": "ipython3",
   "version": "3.11.5"
  }
 },
 "nbformat": 4,
 "nbformat_minor": 5
}
